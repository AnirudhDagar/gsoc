{
 "cells": [
  {
   "cell_type": "markdown",
   "metadata": {},
   "source": [
    "# \"Tutorial: TMVA PyTorch Interface\"\n",
    "> \"Get started with TMVA PyTorch Interface. Combine the power of PyTorch & ROOT!\"\n",
    "\n",
    "- toc: true\n",
    "- branch: master\n",
    "- badges: true\n",
    "- comments: true\n",
    "- author: Anirudh Dagar\n",
    "- categories: [tmva, pytorch, root]\n",
    "- image: images/tmva.jpg"
   ]
  },
  {
   "cell_type": "markdown",
   "metadata": {},
   "source": [
    "### Introduction\n",
    "This tutorial aims to walkthrough the latest addition in the [ROOT TMVA](https://github.com/root-project/root) module, **The PyTorch Interface!** This is specifically designed to utilize the puissance of [ROOT](http://root.cern.ch/) for working with high energy physics data, while leveraging the power and flexibility of the popular Machine Learning framework, PyTorch.\n",
    "\n",
    "The PyTorch interface allows HEP Scientists to be more ingenious with ideas and provides the ability to customize Machine Learning models to a far more preponderant extent than the Keras Interface.\n",
    "\n",
    "Here, we'll build a simple classifier in python using PyTorch and compare the performance to a few other methods on a test example root dataset. The same model can be achieved in C/C++ like other TMVA methods which are implemented in C/C++. You can follow [this](https://github.com/root-project/root/tree/master/tmva/pymva/test/testPyTorchClassification.C) if you prefer a C++ implementation.\n",
    "\n",
    "### Imports\n",
    "We start with importing the necessary modules required for the tutorial"
   ]
  },
  {
   "cell_type": "code",
   "execution_count": 1,
   "metadata": {},
   "outputs": [
    {
     "name": "stdout",
     "output_type": "stream",
     "text": [
      "Welcome to JupyROOT 6.23/01\n"
     ]
    }
   ],
   "source": [
    "from ROOT import TMVA, TFile, TTree, TCut\n",
    "from subprocess import call\n",
    "from os.path import isfile\n",
    "\n",
    "import torch\n",
    "from torch import nn"
   ]
  },
  {
   "cell_type": "markdown",
   "metadata": {},
   "source": [
    "### Setup TMVA\n",
    "\n",
    "TMVA requires initialization the PyMVA to utilize PyTorch. PyMVA is the interface for third-party MVA tools based on Python. It is created to make powerful external libraries easily accessible with a direct integration into the TMVA workflow. All PyMVA methods provide the same plug-and-play mechanisms as the TMVA methods. Because the base method of PyMVA is inherited from the TMVA base method, all options of internal TMVA methods apply for PyMVA methods as well."
   ]
  },
  {
   "cell_type": "code",
   "execution_count": 2,
   "metadata": {},
   "outputs": [],
   "source": [
    "TMVA.Tools.Instance()\n",
    "TMVA.PyMethodBase.PyInitialize()\n",
    "\n",
    "output = TFile.Open('TMVA.root', 'RECREATE')\n",
    "factory = TMVA.Factory('TMVAClassification', output,\n",
    "                       '!V:!Silent:Color:DrawProgressBar:'\n",
    "                       'Transformations=D,G:AnalysisType=Classification')"
   ]
  },
  {
   "cell_type": "markdown",
   "metadata": {},
   "source": [
    "### DataLoader\n",
    "\n",
    "Below we start by downloading the dataset example dataset. The signal and background are loaded and read from the dataset. Finally we define our dataloader with options to help us control the split."
   ]
  },
  {
   "cell_type": "code",
   "execution_count": 3,
   "metadata": {
    "scrolled": true
   },
   "outputs": [
    {
     "name": "stdout",
     "output_type": "stream",
     "text": [
      "DataSetInfo              : [dataset] : Added class \"Signal\"\n",
      "                         : Add Tree TreeS of type Signal with 6000 events\n",
      "DataSetInfo              : [dataset] : Added class \"Background\"\n",
      "                         : Add Tree TreeB of type Background with 6000 events\n",
      "                         : Dataset[dataset] : Class index : 0  name : Signal\n",
      "                         : Dataset[dataset] : Class index : 1  name : Background\n"
     ]
    }
   ],
   "source": [
    "if not isfile('tmva_class_example.root'):\n",
    "    call(['curl', '-O', 'http://root.cern.ch/files/tmva_class_example.root'])\n",
    "\n",
    "data = TFile.Open('tmva_class_example.root')\n",
    "signal = data.Get('TreeS')\n",
    "background = data.Get('TreeB')\n",
    "\n",
    "dataloader = TMVA.DataLoader('dataset')\n",
    "for branch in signal.GetListOfBranches():\n",
    "    dataloader.AddVariable(branch.GetName())\n",
    "\n",
    "dataloader.AddSignalTree(signal, 1.0)\n",
    "dataloader.AddBackgroundTree(background, 1.0)\n",
    "dataloader.PrepareTrainingAndTestTree(TCut(''),\n",
    "                                      'nTrain_Signal=4000:'\n",
    "                                      'nTrain_Background=4000:'\n",
    "                                      'SplitMode=Random:'\n",
    "                                      'NormMode=NumEvents:!V')"
   ]
  },
  {
   "cell_type": "markdown",
   "metadata": {},
   "source": [
    "### Generate model\n",
    "\n",
    "Model Definition."
   ]
  },
  {
   "cell_type": "code",
   "execution_count": 4,
   "metadata": {},
   "outputs": [],
   "source": [
    "model = nn.Sequential()\n",
    "model.add_module('linear_1', nn.Linear(in_features=4, out_features=64))\n",
    "model.add_module('relu', nn.ReLU())\n",
    "model.add_module('linear_2', nn.Linear(in_features=64, out_features=2))\n",
    "model.add_module('softmax', nn.Softmax(dim=1))"
   ]
  },
  {
   "cell_type": "markdown",
   "metadata": {},
   "source": [
    "Define loss function and the Optimizer."
   ]
  },
  {
   "cell_type": "code",
   "execution_count": 5,
   "metadata": {},
   "outputs": [],
   "source": [
    "loss = torch.nn.MSELoss()\n",
    "optimizer = torch.optim.SGD"
   ]
  },
  {
   "cell_type": "markdown",
   "metadata": {},
   "source": [
    "Define the train and predict function. Note that the arguments to train and predict function need to be fixed since we call the same method internally in the TMVA interface backend. A user may control the training process and the loop inside."
   ]
  },
  {
   "cell_type": "markdown",
   "metadata": {},
   "source": [
    "> Tip: You may implement the training loop using `tqdm` for a nice progress bar! 😁"
   ]
  },
  {
   "cell_type": "code",
   "execution_count": 6,
   "metadata": {},
   "outputs": [],
   "source": [
    "def train(model, train_loader, val_loader, num_epochs,\n",
    "          batch_size, optimizer, criterion, save_best, scheduler):\n",
    "    trainer = optimizer(model.parameters(), lr=0.01)\n",
    "    schedule, schedulerSteps = scheduler\n",
    "    best_val = None\n",
    "\n",
    "    for epoch in range(num_epochs):\n",
    "        # Training Loop\n",
    "        # Set to train mode\n",
    "        model.train()\n",
    "        running_train_loss = 0.0\n",
    "        running_val_loss = 0.0\n",
    "        for i, (X, y) in enumerate(train_loader):\n",
    "            trainer.zero_grad()\n",
    "            output = model(X)\n",
    "            train_loss = criterion(output, y)\n",
    "            train_loss.backward()\n",
    "            trainer.step()\n",
    "\n",
    "            # print train statistics\n",
    "            running_train_loss += train_loss.item()\n",
    "            if i % 64 == 63:    # print every 64 mini-batches\n",
    "                print(f\"[Epoch {epoch+1}, {i+1}] train loss:\"\n",
    "                      f\"{running_train_loss / 64 :.3f}\")\n",
    "                running_train_loss = 0.0\n",
    "\n",
    "        if schedule:\n",
    "            schedule(optimizer, epoch, schedulerSteps)\n",
    "\n",
    "        # Validation Loop\n",
    "        # Set to eval mode\n",
    "        model.eval()\n",
    "        with torch.no_grad():\n",
    "            for i, (X, y) in enumerate(val_loader):\n",
    "                output = model(X)\n",
    "                val_loss = criterion(output, y)\n",
    "                running_val_loss += val_loss.item()\n",
    "\n",
    "            curr_val = running_val_loss / len(val_loader)\n",
    "            if save_best:\n",
    "               if best_val==None:\n",
    "                   best_val = curr_val\n",
    "               best_val = save_best(model, curr_val, best_val)\n",
    "\n",
    "            # print val statistics per epoch\n",
    "            print(f\"[Epoch {epoch+1}] val loss: {curr_val :.3f}\")\n",
    "            running_val_loss = 0.0\n",
    "\n",
    "    print(f\"Finished Training on {epoch+1} Epochs!\")\n",
    "\n",
    "    return model"
   ]
  },
  {
   "cell_type": "markdown",
   "metadata": {},
   "source": [
    "Define predict function."
   ]
  },
  {
   "cell_type": "markdown",
   "metadata": {},
   "source": [
    "> Important: TMVA's interface deals with the dataset by converting them to numpy arrays internally and later serving torch dataloaders which we indeed pass into our training function. But, note that at test/inference time, we are presented with numpy array inputs and we need to convert those to PyTorch tensors within the `predict` method. Similarly we need to return the predicted numpy array back to TMVA."
   ]
  },
  {
   "cell_type": "code",
   "execution_count": 7,
   "metadata": {},
   "outputs": [],
   "source": [
    "def predict(model, test_X, batch_size=32):\n",
    "    # Set to eval mode\n",
    "    model.eval()\n",
    "   \n",
    "    X = torch.Tensor(test_X)\n",
    "    with torch.no_grad():\n",
    "        predictions = model(X)\n",
    "\n",
    "    return predictions.numpy()"
   ]
  },
  {
   "cell_type": "markdown",
   "metadata": {},
   "source": [
    "Now that we have defined the necessary components required for downloading, preprocessing, dataloaders,\n",
    "building our model, training loop and a prediction method for evaluation. We need to share some of these components with the TMVA Interface backend.\n",
    "\n",
    "<br/>\n",
    "\n",
    "This can be simply done by defining dictionary: `load_model_custom_objects`\n",
    "\n",
    "**Keys:**\n",
    "* \"optimizer\"\n",
    "* \"criterion\"\n",
    "* \"train_func\"\n",
    "* \"predict_func\"\n",
    "\n",
    "<br/>\n",
    "\n",
    "> Note: The keys and the name of the dictionary need to be as specified!"
   ]
  },
  {
   "cell_type": "code",
   "execution_count": 8,
   "metadata": {},
   "outputs": [],
   "source": [
    "# Pass optimizer, loss, train, predict function objects,\n",
    "# defined earlier, as values to the dictionary\n",
    "\n",
    "load_model_custom_objects = {\"optimizer\": optimizer, \"criterion\": loss,\n",
    "                             \"train_func\": train, \"predict_func\": predict}"
   ]
  },
  {
   "cell_type": "markdown",
   "metadata": {},
   "source": [
    "### Save & Store model\n",
    "\n",
    "Since the TMVA interface requires us to load the model from the stored file without re-definition of model class, we need to convert the model to torchscript before saving for achieving this functionality."
   ]
  },
  {
   "cell_type": "code",
   "execution_count": 9,
   "metadata": {
    "scrolled": true
   },
   "outputs": [
    {
     "name": "stdout",
     "output_type": "stream",
     "text": [
      "Sequential(\n",
      "  (linear_1): Linear(in_features=4, out_features=64, bias=True)\n",
      "  (relu): ReLU()\n",
      "  (linear_2): Linear(in_features=64, out_features=2, bias=True)\n",
      "  (softmax): Softmax(dim=1)\n",
      ")\n"
     ]
    }
   ],
   "source": [
    "print(model)\n",
    "m = torch.jit.script(model)\n",
    "torch.jit.save(m, \"model.pt\")"
   ]
  },
  {
   "cell_type": "markdown",
   "metadata": {},
   "source": [
    "### Book TMVA methods\n",
    "\n",
    "Now we will proceed by booking the MVA methods which we require. We book Fisher and PyTorch methods."
   ]
  },
  {
   "cell_type": "code",
   "execution_count": 10,
   "metadata": {},
   "outputs": [
    {
     "name": "stdout",
     "output_type": "stream",
     "text": [
      "custom objects for loading model :  {'optimizer': <class 'torch.optim.sgd.SGD'>, 'criterion': MSELoss(), 'train_func': <function train at 0x1404b59e0>, 'predict_func': <function predict at 0x1404bb050>}\n"
     ]
    },
    {
     "data": {
      "text/plain": [
       "<cppyy.gbl.TMVA.MethodPyTorch object at 0x7fabf8260600>"
      ]
     },
     "execution_count": 10,
     "metadata": {},
     "output_type": "execute_result"
    },
    {
     "name": "stdout",
     "output_type": "stream",
     "text": [
      "Factory                  : Booking method: \u001b[1mFisher\u001b[0m\n",
      "                         : \n",
      "Fisher                   : [dataset] : Create Transformation \"D\" with events from all classes.\n",
      "                         : \n",
      "                         : Transformation, Variable selection : \n",
      "                         : Input : variable 'var1' <---> Output : variable 'var1'\n",
      "                         : Input : variable 'var2' <---> Output : variable 'var2'\n",
      "                         : Input : variable 'var3' <---> Output : variable 'var3'\n",
      "                         : Input : variable 'var4' <---> Output : variable 'var4'\n",
      "Fisher                   : [dataset] : Create Transformation \"G\" with events from all classes.\n",
      "                         : \n",
      "                         : Transformation, Variable selection : \n",
      "                         : Input : variable 'var1' <---> Output : variable 'var1'\n",
      "                         : Input : variable 'var2' <---> Output : variable 'var2'\n",
      "                         : Input : variable 'var3' <---> Output : variable 'var3'\n",
      "                         : Input : variable 'var4' <---> Output : variable 'var4'\n",
      "Factory                  : Booking method: \u001b[1mPyTorch\u001b[0m\n",
      "                         : \n",
      "PyTorch                  : [dataset] : Create Transformation \"D\" with events from all classes.\n",
      "                         : \n",
      "                         : Transformation, Variable selection : \n",
      "                         : Input : variable 'var1' <---> Output : variable 'var1'\n",
      "                         : Input : variable 'var2' <---> Output : variable 'var2'\n",
      "                         : Input : variable 'var3' <---> Output : variable 'var3'\n",
      "                         : Input : variable 'var4' <---> Output : variable 'var4'\n",
      "PyTorch                  : [dataset] : Create Transformation \"G\" with events from all classes.\n",
      "                         : \n",
      "                         : Transformation, Variable selection : \n",
      "                         : Input : variable 'var1' <---> Output : variable 'var1'\n",
      "                         : Input : variable 'var2' <---> Output : variable 'var2'\n",
      "                         : Input : variable 'var3' <---> Output : variable 'var3'\n",
      "                         : Input : variable 'var4' <---> Output : variable 'var4'\n",
      "                         : Using PyTorch - setting special configuration options \n",
      "                         : Using PyTorch version 1\n",
      "                         :  Setup PyTorch Model \n",
      "                         : Loaded pytorch train function: \n",
      "                         : Loaded pytorch optimizer: \n",
      "                         : Loaded pytorch loss function: \n",
      "                         : Loaded pytorch predict function: \n",
      "                         : Load model from file: model.pt\n"
     ]
    }
   ],
   "source": [
    "factory.BookMethod(dataloader, TMVA.Types.kFisher, 'Fisher',\n",
    "                   '!H:!V:Fisher:VarTransform=D,G')\n",
    "factory.BookMethod(dataloader, TMVA.Types.kPyTorch, 'PyTorch',\n",
    "                   'H:!V:VarTransform=D,G:FilenameModel=model.pt:'\n",
    "                   'NumEpochs=20:BatchSize=32')"
   ]
  },
  {
   "cell_type": "markdown",
   "metadata": {},
   "source": [
    "### Training\n",
    "\n",
    "Call the `TrainAllMethods` from the factory object to initiate training.\n",
    "Note: The output of this cell has been hidden for better readability and to avoid the verbosity."
   ]
  },
  {
   "cell_type": "code",
   "execution_count": 11,
   "metadata": {},
   "outputs": [
    {
     "name": "stdout",
     "output_type": "stream",
     "text": [
      "RecursiveScriptModule(\n",
      "  original_name=Sequential\n",
      "  (linear_1): RecursiveScriptModule(original_name=Linear)\n",
      "  (relu): RecursiveScriptModule(original_name=ReLU)\n",
      "  (linear_2): RecursiveScriptModule(original_name=Linear)\n",
      "  (softmax): RecursiveScriptModule(original_name=Softmax)\n",
      ")\n",
      "[Epoch 1, 64] train loss:0.229\n",
      "[Epoch 1, 128] train loss:0.201\n",
      "[Epoch 1, 192] train loss:0.177\n",
      "[Epoch 1] val loss: 0.173\n",
      "[Epoch 2, 64] train loss:0.164\n",
      "[Epoch 2, 128] train loss:0.160\n",
      "[Epoch 2, 192] train loss:0.147\n",
      "[Epoch 2] val loss: 0.150\n",
      "[Epoch 3, 64] train loss:0.143\n",
      "[Epoch 3, 128] train loss:0.144\n",
      "[Epoch 3, 192] train loss:0.134\n",
      "[Epoch 3] val loss: 0.139\n",
      "[Epoch 4, 64] train loss:0.134\n",
      "[Epoch 4, 128] train loss:0.137\n",
      "[Epoch 4, 192] train loss:0.127\n",
      "[Epoch 4] val loss: 0.134\n",
      "[Epoch 5, 64] train loss:0.128\n",
      "[Epoch 5, 128] train loss:0.132\n",
      "[Epoch 5, 192] train loss:0.122\n",
      "[Epoch 5] val loss: 0.130\n",
      "[Epoch 6, 64] train loss:0.124\n",
      "[Epoch 6, 128] train loss:0.129\n",
      "[Epoch 6, 192] train loss:0.119\n",
      "[Epoch 6] val loss: 0.127\n",
      "[Epoch 7, 64] train loss:0.121\n",
      "[Epoch 7, 128] train loss:0.126\n",
      "[Epoch 7, 192] train loss:0.116\n",
      "[Epoch 7] val loss: 0.125\n",
      "[Epoch 8, 64] train loss:0.118\n",
      "[Epoch 8, 128] train loss:0.124\n",
      "[Epoch 8, 192] train loss:0.114\n",
      "[Epoch 8] val loss: 0.123\n",
      "[Epoch 9, 64] train loss:0.116\n",
      "[Epoch 9, 128] train loss:0.122\n",
      "[Epoch 9, 192] train loss:0.112\n",
      "[Epoch 9] val loss: 0.121\n",
      "[Epoch 10, 64] train loss:0.114\n",
      "[Epoch 10, 128] train loss:0.121\n",
      "[Epoch 10, 192] train loss:0.111\n",
      "[Epoch 10] val loss: 0.120\n",
      "[Epoch 11, 64] train loss:0.113\n",
      "[Epoch 11, 128] train loss:0.120\n",
      "[Epoch 11, 192] train loss:0.110\n",
      "[Epoch 11] val loss: 0.119\n",
      "[Epoch 12, 64] train loss:0.111\n",
      "[Epoch 12, 128] train loss:0.119\n",
      "[Epoch 12, 192] train loss:0.108\n",
      "[Epoch 12] val loss: 0.118\n",
      "[Epoch 13, 64] train loss:0.110\n",
      "[Epoch 13, 128] train loss:0.118\n",
      "[Epoch 13, 192] train loss:0.107\n",
      "[Epoch 13] val loss: 0.117\n",
      "[Epoch 14, 64] train loss:0.109\n",
      "[Epoch 14, 128] train loss:0.117\n",
      "[Epoch 14, 192] train loss:0.106\n",
      "[Epoch 14] val loss: 0.116\n",
      "[Epoch 15, 64] train loss:0.108\n",
      "[Epoch 15, 128] train loss:0.116\n",
      "[Epoch 15, 192] train loss:0.105\n",
      "[Epoch 15] val loss: 0.115\n",
      "[Epoch 16, 64] train loss:0.107\n",
      "[Epoch 16, 128] train loss:0.115\n",
      "[Epoch 16, 192] train loss:0.104\n",
      "[Epoch 16] val loss: 0.115\n",
      "[Epoch 17, 64] train loss:0.106\n",
      "[Epoch 17, 128] train loss:0.115\n",
      "[Epoch 17, 192] train loss:0.104\n",
      "[Epoch 17] val loss: 0.114\n",
      "[Epoch 18, 64] train loss:0.105\n",
      "[Epoch 18, 128] train loss:0.114\n",
      "[Epoch 18, 192] train loss:0.103\n",
      "[Epoch 18] val loss: 0.113\n",
      "[Epoch 19, 64] train loss:0.105\n",
      "[Epoch 19, 128] train loss:0.113\n",
      "[Epoch 19, 192] train loss:0.102\n",
      "[Epoch 19] val loss: 0.113\n",
      "[Epoch 20, 64] train loss:0.104\n",
      "[Epoch 20, 128] train loss:0.113\n",
      "[Epoch 20, 192] train loss:0.102\n",
      "[Epoch 20] val loss: 0.112\n",
      "Finished Training on 20 Epochs!\n",
      "Factory                  : \u001b[1mTrain all methods\u001b[0m\n",
      "                         : Building event vectors for type 2 Signal\n",
      "                         : Dataset[dataset] :  create input formulas for tree TreeS\n",
      "                         : Building event vectors for type 2 Background\n",
      "                         : Dataset[dataset] :  create input formulas for tree TreeB\n",
      "DataSetFactory           : [dataset] : Number of events in input trees\n",
      "                         : \n",
      "                         : \n",
      "                         : Number of training and testing events\n",
      "                         : ---------------------------------------------------------------------------\n",
      "                         : Signal     -- training events            : 4000\n",
      "                         : Signal     -- testing events             : 2000\n",
      "                         : Signal     -- training and testing events: 6000\n",
      "                         : Background -- training events            : 4000\n",
      "                         : Background -- testing events             : 2000\n",
      "                         : Background -- training and testing events: 6000\n",
      "                         : \n",
      "DataSetInfo              : Correlation matrix (Signal):\n",
      "                         : ----------------------------------------\n",
      "                         :             var1    var2    var3    var4\n",
      "                         :    var1:  +1.000  +0.391  +0.590  +0.813\n",
      "                         :    var2:  +0.391  +1.000  +0.692  +0.734\n",
      "                         :    var3:  +0.590  +0.692  +1.000  +0.851\n",
      "                         :    var4:  +0.813  +0.734  +0.851  +1.000\n",
      "                         : ----------------------------------------\n",
      "DataSetInfo              : Correlation matrix (Background):\n",
      "                         : ----------------------------------------\n",
      "                         :             var1    var2    var3    var4\n",
      "                         :    var1:  +1.000  +0.855  +0.914  +0.965\n",
      "                         :    var2:  +0.855  +1.000  +0.927  +0.936\n",
      "                         :    var3:  +0.914  +0.927  +1.000  +0.970\n",
      "                         :    var4:  +0.965  +0.936  +0.970  +1.000\n",
      "                         : ----------------------------------------\n",
      "DataSetFactory           : [dataset] :  \n",
      "                         : \n",
      "Factory                  : [dataset] : Create Transformation \"D\" with events from all classes.\n",
      "                         : \n",
      "                         : Transformation, Variable selection : \n",
      "                         : Input : variable 'var1' <---> Output : variable 'var1'\n",
      "                         : Input : variable 'var2' <---> Output : variable 'var2'\n",
      "                         : Input : variable 'var3' <---> Output : variable 'var3'\n",
      "                         : Input : variable 'var4' <---> Output : variable 'var4'\n",
      "Factory                  : [dataset] : Create Transformation \"G\" with events from all classes.\n",
      "                         : \n",
      "                         : Transformation, Variable selection : \n",
      "                         : Input : variable 'var1' <---> Output : variable 'var1'\n",
      "                         : Input : variable 'var2' <---> Output : variable 'var2'\n",
      "                         : Input : variable 'var3' <---> Output : variable 'var3'\n",
      "                         : Input : variable 'var4' <---> Output : variable 'var4'\n",
      "                         : Preparing the Decorrelation transformation...\n",
      "                         : Preparing the Gaussian transformation...\n",
      "TFHandler_Factory        : Variable        Mean        RMS   [        Min        Max ]\n",
      "                         : -----------------------------------------------------------\n",
      "                         :     var1:  0.0084120     1.0019   [    -3.1195     5.7307 ]\n",
      "                         :     var2:  0.0078511    0.99981   [    -3.1195     5.7307 ]\n",
      "                         :     var3:  0.0083128     1.0011   [    -3.1195     5.7307 ]\n",
      "                         :     var4:  0.0076997    0.99886   [    -3.1195     5.7307 ]\n",
      "                         : -----------------------------------------------------------\n",
      "Factory                  : Train method: Fisher for Classification\n",
      "                         : \n",
      "                         : Preparing the Decorrelation transformation...\n",
      "                         : Preparing the Gaussian transformation...\n",
      "TFHandler_Fisher         : Variable        Mean        RMS   [        Min        Max ]\n",
      "                         : -----------------------------------------------------------\n",
      "                         :     var1:  0.0084120     1.0019   [    -3.1195     5.7307 ]\n",
      "                         :     var2:  0.0078511    0.99981   [    -3.1195     5.7307 ]\n",
      "                         :     var3:  0.0083128     1.0011   [    -3.1195     5.7307 ]\n",
      "                         :     var4:  0.0076997    0.99886   [    -3.1195     5.7307 ]\n",
      "                         : -----------------------------------------------------------\n",
      "Fisher                   : Results for Fisher coefficients:\n",
      "                         : NOTE: The coefficients must be applied to TRANFORMED variables\n",
      "                         :   List of the transformation: \n",
      "                         :   -- Deco\n",
      "                         :   -- Gauss\n",
      "                         : -----------------------\n",
      "                         : Variable:  Coefficient:\n",
      "                         : -----------------------\n",
      "                         :     var1:       -0.221\n",
      "                         :     var2:       -0.055\n",
      "                         :     var3:       +0.032\n",
      "                         :     var4:       +0.474\n",
      "                         : (offset):       -0.002\n",
      "                         : -----------------------\n",
      "                         : Elapsed time for training with 8000 events: 0.0537 sec         \n",
      "Fisher                   : [dataset] : Evaluation of Fisher on training sample (8000 events)\n",
      "                         : Elapsed time for evaluation of 8000 events: 0.0226 sec       \n",
      "                         : Creating xml weight file: \u001b[0;36mdataset/weights/TMVAClassification_Fisher.weights.xml\u001b[0m\n",
      "                         : Creating standalone class: \u001b[0;36mdataset/weights/TMVAClassification_Fisher.class.C\u001b[0m\n",
      "Factory                  : Training finished\n",
      "                         : \n",
      "Factory                  : Train method: PyTorch for Classification\n",
      "                         : \n",
      "                         : \n",
      "                         : \u001b[1m================================================================\u001b[0m\n",
      "                         : \u001b[1mH e l p   f o r   M V A   m e t h o d   [ PyTorch ] :\u001b[0m\n",
      "                         : \n",
      "                         : PyTorch is a scientific computing package supporting\n",
      "                         : automatic differentiation. This method wraps the training\n",
      "                         : and predictions steps of the PyTorch Python package for\n",
      "                         : TMVA, so that dataloading, preprocessing and evaluation\n",
      "                         : can be done within the TMVA system. To use this PyTorch\n",
      "                         : interface, you need to generatea model with PyTorch first.\n",
      "                         : Then, this model can be loaded and trained in TMVA.\n",
      "                         : \n",
      "                         : \n",
      "                         : <Suppress this message by specifying \"!H\" in the booking option>\n",
      "                         : \u001b[1m================================================================\u001b[0m\n",
      "                         : \n",
      "                         : Preparing the Decorrelation transformation...\n",
      "                         : Preparing the Gaussian transformation...\n",
      "TFHandler_PyTorch        : Variable        Mean        RMS   [        Min        Max ]\n",
      "                         : -----------------------------------------------------------\n",
      "                         :     var1:  0.0084120     1.0019   [    -3.1195     5.7307 ]\n",
      "                         :     var2:  0.0078511    0.99981   [    -3.1195     5.7307 ]\n",
      "                         :     var3:  0.0083128     1.0011   [    -3.1195     5.7307 ]\n",
      "                         :     var4:  0.0076997    0.99886   [    -3.1195     5.7307 ]\n",
      "                         : -----------------------------------------------------------\n",
      "TFHandler_PyTorch        : Variable        Mean        RMS   [        Min        Max ]\n",
      "                         : -----------------------------------------------------------\n",
      "                         :     var1:  0.0084120     1.0019   [    -3.1195     5.7307 ]\n",
      "                         :     var2:  0.0078511    0.99981   [    -3.1195     5.7307 ]\n",
      "                         :     var3:  0.0083128     1.0011   [    -3.1195     5.7307 ]\n",
      "                         :     var4:  0.0076997    0.99886   [    -3.1195     5.7307 ]\n",
      "                         : -----------------------------------------------------------\n",
      "                         : Split TMVA training data in 6400 training events and 1600 validation events\n",
      "                         : Print Training Model Architecture\n",
      "                         : Option SaveBestOnly: Only model weights with smallest validation loss will be stored\n",
      "                         : Elapsed time for training with 8000 events: 4.39 sec         \n",
      "PyTorch                  : [dataset] : Evaluation of PyTorch on training sample (8000 events)\n",
      "                         : Elapsed time for evaluation of 8000 events: 0.0327 sec       \n",
      "                         : Creating xml weight file: \u001b[0;36mdataset/weights/TMVAClassification_PyTorch.weights.xml\u001b[0m\n",
      "                         : Creating standalone class: \u001b[0;36mdataset/weights/TMVAClassification_PyTorch.class.C\u001b[0m\n",
      "Factory                  : Training finished\n",
      "                         : \n",
      "                         : Ranking input variables (method specific)...\n",
      "Fisher                   : Ranking result (top variable is best ranked)\n",
      "                         : -------------------------------\n",
      "                         : Rank : Variable  : Discr. power\n",
      "                         : -------------------------------\n",
      "                         :    1 : var4      : 1.956e-01\n",
      "                         :    2 : var1      : 4.019e-02\n",
      "                         :    3 : var2      : 3.086e-03\n",
      "                         :    4 : var3      : 2.351e-04\n",
      "                         : -------------------------------\n",
      "                         : No variable ranking supplied by classifier: PyTorch\n",
      "Factory                  : === Destroy and recreate all methods via weight files for testing ===\n",
      "                         : \n",
      "                         : Reading weight file: \u001b[0;36mdataset/weights/TMVAClassification_Fisher.weights.xml\u001b[0m\n",
      "                         : Reading weight file: \u001b[0;36mdataset/weights/TMVAClassification_PyTorch.weights.xml\u001b[0m\n"
     ]
    },
    {
     "name": "stderr",
     "output_type": "stream",
     "text": [
      "0%, time left: unknown\n",
      "7%, time left: 0 sec\n",
      "13%, time left: 0 sec\n",
      "19%, time left: 0 sec\n",
      "25%, time left: 0 sec\n",
      "32%, time left: 0 sec\n",
      "38%, time left: 0 sec\n",
      "44%, time left: 0 sec\n",
      "50%, time left: 0 sec\n",
      "57%, time left: 0 sec\n",
      "63%, time left: 0 sec\n",
      "69%, time left: 0 sec\n",
      "75%, time left: 0 sec\n",
      "82%, time left: 0 sec\n",
      "88%, time left: 0 sec\n",
      "94%, time left: 0 sec\n"
     ]
    }
   ],
   "source": [
    "factory.TrainAllMethods()"
   ]
  },
  {
   "cell_type": "markdown",
   "metadata": {},
   "source": [
    "### Testing\n",
    "\n",
    "Call the `TestAllMethods` from the factory object to initiate testing.\n",
    "Note: The output of this cell has been hidden for better readability and to avoid the verbosity."
   ]
  },
  {
   "cell_type": "code",
   "execution_count": 12,
   "metadata": {
    "scrolled": true
   },
   "outputs": [
    {
     "name": "stdout",
     "output_type": "stream",
     "text": [
      "custom objects for loading model :  {'optimizer': <class 'torch.optim.sgd.SGD'>, 'criterion': MSELoss(), 'train_func': <function train at 0x1404b59e0>, 'predict_func': <function predict at 0x1404bb050>}\n",
      "Factory                  : \u001b[1mTest all methods\u001b[0m\n",
      "Factory                  : Test method: Fisher for Classification performance\n",
      "                         : \n",
      "Fisher                   : [dataset] : Evaluation of Fisher on testing sample (4000 events)\n",
      "                         : Elapsed time for evaluation of 4000 events: 0.0188 sec       \n",
      "Factory                  : Test method: PyTorch for Classification performance\n",
      "                         : \n",
      "                         :  Setup PyTorch Model \n",
      "                         : Loaded pytorch train function: \n",
      "                         : Loaded pytorch optimizer: \n",
      "                         : Loaded pytorch loss function: \n",
      "                         : Loaded pytorch predict function: \n",
      "                         : Load model from file: dataset/weights/TrainedModel_PyTorch.pt\n",
      "PyTorch                  : [dataset] : Evaluation of PyTorch on testing sample (4000 events)\n",
      "                         : Elapsed time for evaluation of 4000 events: 0.0324 sec       \n"
     ]
    },
    {
     "name": "stderr",
     "output_type": "stream",
     "text": [
      "0%, time left: unknown\n",
      "7%, time left: 0 sec\n",
      "13%, time left: 0 sec\n",
      "19%, time left: 0 sec\n",
      "25%, time left: 0 sec\n",
      "32%, time left: 0 sec\n",
      "38%, time left: 0 sec\n",
      "44%, time left: 0 sec\n",
      "50%, time left: 0 sec\n",
      "57%, time left: 0 sec\n",
      "63%, time left: 0 sec\n",
      "69%, time left: 0 sec\n",
      "75%, time left: 0 sec\n",
      "82%, time left: 0 sec\n",
      "88%, time left: 0 sec\n",
      "94%, time left: 0 sec\n"
     ]
    }
   ],
   "source": [
    "factory.TestAllMethods()"
   ]
  },
  {
   "cell_type": "markdown",
   "metadata": {},
   "source": [
    "### Evaluation\n",
    "\n",
    "Call the `EvaluateAllMethods` from the factory object to initiate evaluation. Here we evaluate all methods and compare their performances, computing efficiencies, ROC curves etc. using both training and tetsing data sets."
   ]
  },
  {
   "cell_type": "code",
   "execution_count": 13,
   "metadata": {},
   "outputs": [
    {
     "name": "stdout",
     "output_type": "stream",
     "text": [
      "Factory                  : \u001b[1mEvaluate all methods\u001b[0m\n",
      "Factory                  : Evaluate classifier: Fisher\n",
      "                         : \n",
      "TFHandler_Fisher         : Variable        Mean        RMS   [        Min        Max ]\n",
      "                         : -----------------------------------------------------------\n",
      "                         :     var1:   0.015907    0.98605   [    -2.8645     3.5534 ]\n",
      "                         :     var2:  0.0046941     1.0002   [    -3.2858     3.3764 ]\n",
      "                         :     var3:   0.017030    0.99729   [    -2.9032     5.7307 ]\n",
      "                         :     var4: -0.0011286    0.98455   [    -2.8276     3.2696 ]\n",
      "                         : -----------------------------------------------------------\n",
      "Fisher                   : [dataset] : Loop over test events and fill histograms with classifier response...\n",
      "                         : \n",
      "TFHandler_Fisher         : Variable        Mean        RMS   [        Min        Max ]\n",
      "                         : -----------------------------------------------------------\n",
      "                         :     var1:   0.015907    0.98605   [    -2.8645     3.5534 ]\n",
      "                         :     var2:  0.0046941     1.0002   [    -3.2858     3.3764 ]\n",
      "                         :     var3:   0.017030    0.99729   [    -2.9032     5.7307 ]\n",
      "                         :     var4: -0.0011286    0.98455   [    -2.8276     3.2696 ]\n",
      "                         : -----------------------------------------------------------\n",
      "Factory                  : Evaluate classifier: PyTorch\n",
      "                         : \n",
      "TFHandler_PyTorch        : Variable        Mean        RMS   [        Min        Max ]\n",
      "                         : -----------------------------------------------------------\n",
      "                         :     var1:   0.015907    0.98605   [    -2.8645     3.5534 ]\n",
      "                         :     var2:  0.0046941     1.0002   [    -3.2858     3.3764 ]\n",
      "                         :     var3:   0.017030    0.99729   [    -2.9032     5.7307 ]\n",
      "                         :     var4: -0.0011286    0.98455   [    -2.8276     3.2696 ]\n",
      "                         : -----------------------------------------------------------\n",
      "PyTorch                  : [dataset] : Loop over test events and fill histograms with classifier response...\n",
      "                         : \n",
      "TFHandler_PyTorch        : Variable        Mean        RMS   [        Min        Max ]\n",
      "                         : -----------------------------------------------------------\n",
      "                         :     var1:   0.015907    0.98605   [    -2.8645     3.5534 ]\n",
      "                         :     var2:  0.0046941     1.0002   [    -3.2858     3.3764 ]\n",
      "                         :     var3:   0.017030    0.99729   [    -2.9032     5.7307 ]\n",
      "                         :     var4: -0.0011286    0.98455   [    -2.8276     3.2696 ]\n",
      "                         : -----------------------------------------------------------\n",
      "                         : \n",
      "                         : Evaluation results ranked by best signal efficiency and purity (area)\n",
      "                         : -------------------------------------------------------------------------------------------------------------------\n",
      "                         : DataSet       MVA                       \n",
      "                         : Name:         Method:          ROC-integ\n",
      "                         : dataset       PyTorch        : 0.929\n",
      "                         : dataset       Fisher         : 0.880\n",
      "                         : -------------------------------------------------------------------------------------------------------------------\n",
      "                         : \n",
      "                         : Testing efficiency compared to training efficiency (overtraining check)\n",
      "                         : -------------------------------------------------------------------------------------------------------------------\n",
      "                         : DataSet              MVA              Signal efficiency: from test sample (from training sample) \n",
      "                         : Name:                Method:          @B=0.01             @B=0.10            @B=0.30   \n",
      "                         : -------------------------------------------------------------------------------------------------------------------\n",
      "                         : dataset              PyTorch        : 0.330 (0.294)       0.771 (0.774)      0.953 (0.953)\n",
      "                         : dataset              Fisher         : 0.192 (0.190)       0.645 (0.646)      0.884 (0.876)\n",
      "                         : -------------------------------------------------------------------------------------------------------------------\n",
      "                         : \n",
      "Dataset:dataset          : Created tree 'TestTree' with 4000 events\n",
      "                         : \n",
      "Dataset:dataset          : Created tree 'TrainTree' with 8000 events\n",
      "                         : \n",
      "Factory                  : \u001b[1mThank you for using TMVA!\u001b[0m\n",
      "                         : \u001b[1mFor citation information, please visit: http://tmva.sf.net/citeTMVA.html\u001b[0m\n"
     ]
    }
   ],
   "source": [
    "factory.EvaluateAllMethods()"
   ]
  },
  {
   "cell_type": "markdown",
   "metadata": {},
   "source": [
    "### Plots\n",
    "\n",
    "We can now analyze the results using histogram plots and ROC curves. Several histograms are produced after calling evaluation, which can be examined with the TMVA GUI or directly using the output file."
   ]
  },
  {
   "cell_type": "code",
   "execution_count": 14,
   "metadata": {},
   "outputs": [
    {
     "data": {
      "image/png": "[encoded data removed]",
      "text/plain": [
       "<IPython.core.display.Image object>"
      ]
     },
     "metadata": {},
     "output_type": "display_data"
    }
   ],
   "source": [
    "roc = factory.GetROCCurve(dataloader)\n",
    "roc.Draw()"
   ]
  },
  {
   "cell_type": "markdown",
   "metadata": {},
   "source": [
    "<hr/>\n",
    "\n",
    "That is all for this tutorial and with that I've wrapped up my project. Stay tuned for my final post about the GSoC journey at CERN.\n",
    "\n",
    "Feel free to ask questions below in the comments or on the [root forum](https://root-forum.cern.ch/).\n",
    "\n",
    "Until next time,\n",
    "Signing Off!"
   ]
  }
 ],
 "metadata": {
  "kernelspec": {
   "display_name": "python3.7.7",
   "language": "python",
   "name": "python3.7.7"
  },
  "language_info": {
   "codemirror_mode": {
    "name": "ipython",
    "version": 3
   },
   "file_extension": ".py",
   "mimetype": "text/x-python",
   "name": "python",
   "nbconvert_exporter": "python",
   "pygments_lexer": "ipython3",
   "version": "3.7.7"
  }
 },
 "nbformat": 4,
 "nbformat_minor": 4
}
